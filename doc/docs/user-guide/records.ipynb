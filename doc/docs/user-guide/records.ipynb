{
 "cells": [
  {
   "cell_type": "markdown",
   "metadata": {},
   "source": [
    "# Record Types\n",
    "\n",
    "Most python avro libraries represent records as python dicts, this is convenient, but has a performance impact at high volume.\n",
    "\n",
    "By default, cavro represents record values as instances of a Record subclass.\n",
    "\n",
    "When a schema is parsed, cavro dynamically creates a subclasses of cavro.Record for each record type in the schema. These subclasses have the same name as the avro record, and are efficiently populated with values on decode.\n",
    "\n",
    "## Reading Records"
   ]
  },
  {
   "cell_type": "code",
   "execution_count": 1,
   "metadata": {},
   "outputs": [
    {
     "name": "stdout",
     "output_type": "stream",
     "text": [
      "<Record:Example {name: 'John' age: 42}>\n",
      "<class '__main__.Example'>\n"
     ]
    }
   ],
   "source": [
    "import cavro\n",
    "avro_data = b'\\x08JohnT' # Loaded from somewhere\n",
    "\n",
    "schema = cavro.Schema({\n",
    "    'type': 'record',\n",
    "    'name': 'Example',\n",
    "    'fields': [\n",
    "        {'name': 'name', 'type': 'string'},\n",
    "        {'name': 'age', 'type': 'int'},\n",
    "    ]\n",
    "})\n",
    "record = schema.binary_decode(avro_data)\n",
    "print(record)\n",
    "print(type(record))"
   ]
  },
  {
   "cell_type": "markdown",
   "metadata": {},
   "source": [
    "## Accessing Fields\n",
    "\n",
    "### Getting Values\n",
    "Record fields can be accessed like any class, or like a dictionary:"
   ]
  },
  {
   "cell_type": "code",
   "execution_count": 2,
   "metadata": {},
   "outputs": [
    {
     "name": "stdout",
     "output_type": "stream",
     "text": [
      "Name: John\n",
      "Age: 42\n"
     ]
    }
   ],
   "source": [
    "print(f'Name: {record.name}')\n",
    "print(f'Age: {record[\"age\"]}')"
   ]
  },
  {
   "cell_type": "markdown",
   "metadata": {},
   "source": [
    "There is also an `_asdict` method that returns all fields as a python `dict`:"
   ]
  },
  {
   "cell_type": "code",
   "execution_count": 3,
   "metadata": {},
   "outputs": [
    {
     "data": {
      "text/plain": [
       "{'name': 'John', 'age': 42}"
      ]
     },
     "execution_count": 3,
     "metadata": {},
     "output_type": "execute_result"
    }
   ],
   "source": [
    "record._asdict()"
   ]
  },
  {
   "cell_type": "markdown",
   "metadata": {},
   "source": [
    "### Setting Values\n",
    "Fields can be assigned to:"
   ]
  },
  {
   "cell_type": "code",
   "execution_count": 4,
   "metadata": {},
   "outputs": [
    {
     "name": "stdout",
     "output_type": "stream",
     "text": [
      "<Record:Example {name: 'Jane' age: 42}>\n"
     ]
    }
   ],
   "source": [
    "record.name = 'Jane'\n",
    "print(record)"
   ]
  },
  {
   "cell_type": "markdown",
   "metadata": {},
   "source": [
    "## Creating Records\n",
    "\n",
    "Records can be created in several different ways:"
   ]
  },
  {
   "cell_type": "code",
   "execution_count": 5,
   "metadata": {},
   "outputs": [
    {
     "name": "stdout",
     "output_type": "stream",
     "text": [
      "<Record:Example {name: 'Jane' age: 42}>\n"
     ]
    }
   ],
   "source": [
    "# Get the record type from the schema\n",
    "Example = schema.named_types['Example'].record\n",
    "\n",
    "rec1 = Example(record)                      # From an existing record\n",
    "rec2 = Example(name='Jane', age=42)         # From keyword arguments\n",
    "rec3 = Example({'name': 'Jane', 'age': 42}) # From a dict\n",
    "\n",
    "assert record == rec1 == rec2 == rec3\n",
    "print(rec3)"
   ]
  },
  {
   "cell_type": "markdown",
   "metadata": {},
   "source": [
    "## Getting the Schema\n",
    "\n",
    "Record classes have a class attribute `Type` that is the [AvroType](/docs/api#class-recordtype) for the record:"
   ]
  },
  {
   "cell_type": "code",
   "execution_count": 6,
   "metadata": {},
   "outputs": [
    {
     "name": "stdout",
     "output_type": "stream",
     "text": [
      "<cavro.RecordType object at 0x110d65d80>\n"
     ]
    }
   ],
   "source": [
    "print(record.Type)"
   ]
  },
  {
   "cell_type": "markdown",
   "metadata": {},
   "source": [
    "The list of fields can be accessed via a record's `Type`:"
   ]
  },
  {
   "cell_type": "code",
   "execution_count": 7,
   "metadata": {},
   "outputs": [
    {
     "name": "stdout",
     "output_type": "stream",
     "text": [
      "['name', 'age']\n",
      "{'name': 'Jane', 'age': 42}\n"
     ]
    }
   ],
   "source": [
    "print([field.name for field in record.Type.fields])\n",
    "print({field.name: record[field.name] for field in record.Type.fields})"
   ]
  },
  {
   "cell_type": "markdown",
   "metadata": {},
   "source": [
    "## Record Options\n",
    "\n",
    "There are several [cavro.Options](/docs/api#class-options) options that control how record values are created/used:\n",
    "\n",
    "### record_decodes_to_dict\n",
    "\n",
    "With this option, decoding a record value returns a dict object rather than a Record instance:"
   ]
  },
  {
   "cell_type": "code",
   "execution_count": 8,
   "metadata": {},
   "outputs": [
    {
     "name": "stdout",
     "output_type": "stream",
     "text": [
      "{'name': 'John', 'age': 42}\n"
     ]
    }
   ],
   "source": [
    "schema2 = cavro.Schema({\n",
    "    'type': 'record',\n",
    "    'name': 'Example',\n",
    "    'fields': [\n",
    "        {'name': 'name', 'type': 'string'},\n",
    "        {'name': 'age', 'type': 'int'},\n",
    "    ]\n",
    "}, record_decodes_to_dict=True)\n",
    "\n",
    "# This is a dict not a Record type\n",
    "record = schema2.binary_decode(avro_data)\n",
    "\n",
    "print(record)"
   ]
  },
  {
   "cell_type": "markdown",
   "metadata": {},
   "source": [
    "### record_can_encode_dict\n",
    "\n",
    "By default, `cavro` allows dicts to be passed wherever a record is expected.  If this option is set to False, then that is disallowed:"
   ]
  },
  {
   "cell_type": "code",
   "execution_count": 9,
   "metadata": {},
   "outputs": [
    {
     "name": "stdout",
     "output_type": "stream",
     "text": [
      "Default allows dicts\n",
      "But we can disable it:\n",
      "Invalid value {'name': 'Bob', 'age': 35} for type record at Example\n"
     ]
    }
   ],
   "source": [
    "schema.binary_encode({'name': 'Bob', 'age': 35})\n",
    "print('Default allows dicts')\n",
    "schema2 = cavro.Schema(schema.schema, record_can_encode_dict=False)\n",
    "print(\"But we can disable it:\")\n",
    "try:\n",
    "    schema2.binary_encode({'name': 'Bob', 'age': 35})\n",
    "except Exception as e:\n",
    "    print(e)"
   ]
  },
  {
   "cell_type": "markdown",
   "metadata": {},
   "source": [
    "### record_values_type_hint\n",
    "\n",
    "This is a non-standard option that allows passing an extra key '-type' in dicts when encoding them.  The '-type' value must match the name of the record:"
   ]
  },
  {
   "cell_type": "code",
   "execution_count": 10,
   "metadata": {},
   "outputs": [
    {
     "name": "stdout",
     "output_type": "stream",
     "text": [
      "Plain Dict:\t<Record:A {value: 42}>\n",
      "Typed:\t<Record:B {value: 42}>\n",
      "Select A with -type:\t<Record:A {value: 42}>\n",
      "Select B with -type:\t<Record:B {value: 42}>\n"
     ]
    }
   ],
   "source": [
    "schema3 = cavro.Schema([\n",
    "    {'type': 'record', 'name': 'A', 'fields': [{'name': 'value', 'type': 'int'}]},\n",
    "    {'type': 'record', 'name': 'B', 'fields': [{'name': 'value', 'type': 'long'}]},\n",
    "], record_values_type_hint=True)\n",
    "\n",
    "def pp(val, msg):\n",
    "    decoded = schema3.binary_decode(val)\n",
    "    print(f'{msg}\\t{decoded}')\n",
    "\n",
    "# There is no reliable way (using dicts) to tell cavro which record type to use.\n",
    "# You can just use anything that works by passing the values:\n",
    "pp(schema3.binary_encode({'value': 42}), 'Plain Dict:')\n",
    "# Or you can construct the record type yourself:\n",
    "pp(schema3.binary_encode(schema3.named_types['B'].record(value=42)), 'Typed:')\n",
    "# Or using the type hint:\n",
    "pp(schema3.binary_encode({'-type': 'A', 'value': 42}), 'Select A with -type:')\n",
    "pp(schema3.binary_encode({'-type': 'B', 'value': 42}), 'Select B with -type:')\n"
   ]
  },
  {
   "cell_type": "markdown",
   "metadata": {},
   "source": [
    "### record_allow_extra_fields\n",
    "\n",
    "By default, if you encode a dict using cavro, extra fields in the dict are silently ignored.\n",
    "\n",
    "Disabling this behaviour causes an exception to be raised:"
   ]
  },
  {
   "cell_type": "code",
   "execution_count": 11,
   "metadata": {},
   "outputs": [
    {
     "name": "stdout",
     "output_type": "stream",
     "text": [
      "b'\\x06BobF'\n",
      "Invalid value '...' for type record at height\n"
     ]
    }
   ],
   "source": [
    "schema_no_extra_fields = cavro.Schema(schema.schema, record_allow_extra_fields=False)\n",
    "\n",
    "print(schema.binary_encode({'name': 'Bob', 'age': 35, 'height': 1.1}))\n",
    "try:\n",
    "    schema_no_extra_fields.binary_encode({'name': 'Bob', 'age': 35, 'height': 1.1})\n",
    "except Exception as e:\n",
    "    print(e)\n"
   ]
  },
  {
   "cell_type": "markdown",
   "metadata": {},
   "source": [
    "### record_encode_use_defaults\n",
    "\n",
    "If a schema defines a field as having a default value, and that value is not provided when creating a record, then cavro will supply the default value automatically,  this option can turn that off:"
   ]
  },
  {
   "cell_type": "code",
   "execution_count": 12,
   "metadata": {},
   "outputs": [
    {
     "name": "stdout",
     "output_type": "stream",
     "text": [
      "<Record:Example {name: 'JDoe' age: 25}>\n",
      "Invalid value '<missing>' for type record at age\n"
     ]
    }
   ],
   "source": [
    "schema4 = cavro.Schema({\n",
    "    'type': 'record',\n",
    "    'name': 'Example',\n",
    "    'fields': [\n",
    "        {'name': 'name', 'type': 'string', 'default': 'JDoe'},\n",
    "        {'name': 'age', 'type': 'int', 'default': 25},\n",
    "    ]\n",
    "})\n",
    "schema4_no_default = cavro.Schema(schema4.schema, record_encode_use_defaults=False)\n",
    "\n",
    "# Normally, the default values are used:\n",
    "print(schema4.binary_decode(schema4.binary_encode({})))\n",
    "\n",
    "# But when disabled...\n",
    "try:\n",
    "    schema4_no_default.binary_encode({})\n",
    "except Exception as e:\n",
    "    print(e)"
   ]
  },
  {
   "cell_type": "markdown",
   "metadata": {},
   "source": [
    "## Record Compatibility\n",
    "\n",
    "When using `dict`s to encode values, `cavro` checks that each key/value in the dict is appropriate for the record, and encodes it.\n",
    "\n",
    "Using record types, by default `cavro` will check that the value is an `instance` of the record value type for the schema.\n",
    "\n",
    "This normally works fine, but in some cases, can cause surprising errors where values are read with one schema and written with another.\n",
    "\n",
    "To work around the issue, cavro will fall back to a record compatibility check when a value type does not match the exact type of the schema.\n",
    "\n",
    "This behaviour can be controlled using the `adapt_record_types` option:"
   ]
  },
  {
   "cell_type": "code",
   "execution_count": 13,
   "metadata": {},
   "outputs": [],
   "source": [
    "base_schema = cavro.Schema({'type': 'record', 'name': 'X', 'fields': [{'name': 'a', 'type': 'int'}]})\n",
    "\n",
    "record = base_schema.named_types['X'].record(a=1)"
   ]
  },
  {
   "cell_type": "markdown",
   "metadata": {},
   "source": [
    "The actual class type of record is specific to the schema, so let's look at its ID:"
   ]
  },
  {
   "cell_type": "code",
   "execution_count": 21,
   "metadata": {},
   "outputs": [
    {
     "name": "stdout",
     "output_type": "stream",
     "text": [
      "Base ID: 5199703920: <Record:X {a: 1}>\n"
     ]
    }
   ],
   "source": [
    "print(f'Base ID: {id(type(record))}: {record}')"
   ]
  },
  {
   "cell_type": "markdown",
   "metadata": {},
   "source": [
    "If we create a new schema object with an identical cavro schema, we get a new type:"
   ]
  },
  {
   "cell_type": "code",
   "execution_count": 15,
   "metadata": {},
   "outputs": [
    {
     "name": "stdout",
     "output_type": "stream",
     "text": [
      "Similar ID: 4572559760: <Record:X {a: 1}>\n",
      "Type classes are the same: False\n"
     ]
    }
   ],
   "source": [
    "similar_schema = cavro.Schema(base_schema.schema)\n",
    "\n",
    "similar_record = similar_schema.named_types['X'].record(a=1)\n",
    "# The ID of the class will be different, even if they look the same:\n",
    "print(f'Similar ID: {id(type(similar_record))}: {similar_record}')\n",
    "print('Type classes are the same:', type(record) == type(similar_record))"
   ]
  },
  {
   "cell_type": "markdown",
   "metadata": {},
   "source": [
    "But we can encode the record because the schemas match:"
   ]
  },
  {
   "cell_type": "code",
   "execution_count": 16,
   "metadata": {},
   "outputs": [
    {
     "name": "stdout",
     "output_type": "stream",
     "text": [
      "b'\\x02'\n"
     ]
    }
   ],
   "source": [
    "print(similar_schema.binary_encode(record))"
   ]
  },
  {
   "cell_type": "markdown",
   "metadata": {},
   "source": [
    "If either the type name, or the fields don't match, then there is an error:"
   ]
  },
  {
   "cell_type": "code",
   "execution_count": 19,
   "metadata": {},
   "outputs": [
    {
     "name": "stdout",
     "output_type": "stream",
     "text": [
      "Record <Record:X {a: 1}> cannot be adapted to <cavro.RecordType object at 0x117f3aef0>\n"
     ]
    }
   ],
   "source": [
    "incompatible_schema = cavro.Schema({'type': 'record', 'name': 'Y', 'fields': [{'name': 'a', 'type': 'int'}]})\n",
    "try:\n",
    "    incompatible_schema.binary_encode(record)\n",
    "except Exception as e:\n",
    "    print(e)"
   ]
  },
  {
   "cell_type": "markdown",
   "metadata": {},
   "source": [
    "Or if the `adapt_record_types` option is set to false:"
   ]
  },
  {
   "cell_type": "code",
   "execution_count": 22,
   "metadata": {},
   "outputs": [
    {
     "name": "stdout",
     "output_type": "stream",
     "text": [
      "Record <Record:X {a: 1}> cannot be adapted to <cavro.RecordType object at 0x117f3b130>\n"
     ]
    }
   ],
   "source": [
    "strict_schema = cavro.Schema(base_schema.schema, adapt_record_types=False)\n",
    "try:\n",
    "    strict_schema.binary_encode(record)\n",
    "except Exception as e:\n",
    "    print(e)"
   ]
  }
 ],
 "metadata": {
  "kernelspec": {
   "display_name": "Python 3",
   "language": "python",
   "name": "python3"
  },
  "language_info": {
   "codemirror_mode": {
    "name": "ipython",
    "version": 3
   },
   "file_extension": ".py",
   "mimetype": "text/x-python",
   "name": "python",
   "nbconvert_exporter": "python",
   "pygments_lexer": "ipython3",
   "version": "3.10.3"
  }
 },
 "nbformat": 4,
 "nbformat_minor": 2
}
