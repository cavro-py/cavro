{
 "cells": [
  {
   "cell_type": "code",
   "execution_count": 3,
   "metadata": {
    "tags": [
     "hide"
    ]
   },
   "outputs": [],
   "source": [
    "import cavro"
   ]
  },
  {
   "cell_type": "markdown",
   "metadata": {},
   "source": [
    "# Schemas\n",
    "\n",
    "The primary interface for `cavro` is the [cavro.Schema](/docs/api#class-schema) class.  These are constructed from an avro schema definition:"
   ]
  },
  {
   "cell_type": "code",
   "execution_count": 4,
   "metadata": {},
   "outputs": [
    {
     "name": "stdout",
     "output_type": "stream",
     "text": [
      "<cavro.Schema object at 0x11585d990>\n"
     ]
    }
   ],
   "source": [
    "schema = cavro.Schema('{\"type\": \"int\"}')\n",
    "print(schema)"
   ]
  },
  {
   "cell_type": "markdown",
   "metadata": {},
   "source": [
    "Schemas are actually convenience wrappers around the underlying [avro types](/docs/api#class-avrotype) that do the heavy-lifting of encoding/decoding."
   ]
  },
  {
   "cell_type": "markdown",
   "metadata": {},
   "source": [
    "## Constructing Schemas"
   ]
  },
  {
   "cell_type": "markdown",
   "metadata": {},
   "source": [
    "Schemas can be created from a JSON string representing the schema, or from a python object that matches a JSON schema.\n",
    "\n",
    "Sometimes the expected behaviour can be ambiguous, so there is a 'parse_json' argument that can disable json parsing.  The following are all equivalent:"
   ]
  },
  {
   "cell_type": "code",
   "execution_count": 10,
   "metadata": {},
   "outputs": [
    {
     "name": "stdout",
     "output_type": "stream",
     "text": [
      "\"int\"\n",
      "\"int\"\n",
      "\"int\"\n",
      "\"int\"\n"
     ]
    }
   ],
   "source": [
    "print(cavro.Schema('{\"type\": \"int\"}').schema_str)\n",
    "print(cavro.Schema('\"int\"').schema_str)\n",
    "print(cavro.Schema({'type': 'int'}).schema_str)\n",
    "print(cavro.Schema('int', parse_json=False).schema_str)"
   ]
  },
  {
   "cell_type": "markdown",
   "metadata": {},
   "source": [
    "Whereas this will not work, because cavro tries to parse 'int' as a JSON string:"
   ]
  },
  {
   "cell_type": "code",
   "execution_count": 13,
   "metadata": {},
   "outputs": [
    {
     "name": "stdout",
     "output_type": "stream",
     "text": [
      "Expecting value: line 1 column 1 (char 0)\n"
     ]
    }
   ],
   "source": [
    "try:\n",
    "    cavro.Schema('int')\n",
    "except Exception as e:\n",
    "    print(e)"
   ]
  },
  {
   "cell_type": "markdown",
   "metadata": {},
   "source": [
    "## Options\n",
    "\n",
    "How a schema behaves can be controlled through [Options](/docs/api#class-options). Options can be passed to a schema, either using the `options=` argument, or via kwargs the the `Schema.__init__` that match the fields of `Options`.\n",
    "\n",
    "If no options are provided, then the schema uses `cavro.DEFAULT_OPTIONS` which provides reasonable defaults."
   ]
  },
  {
   "cell_type": "code",
   "execution_count": 21,
   "metadata": {},
   "outputs": [
    {
     "name": "stdout",
     "output_type": "stream",
     "text": [
      "0:  False\n",
      "1:  True\n",
      "2:  False\n",
      "3:  True\n"
     ]
    }
   ],
   "source": [
    "schema0 = cavro.Schema('\"int\"')\n",
    "print('0: ', schema0.options.coerce_values_to_int)\n",
    "\n",
    "schema1 = cavro.Schema('\"int\"', coerce_values_to_int=True)\n",
    "print('1: ', schema1.options.coerce_values_to_int)\n",
    "\n",
    "schema2 = cavro.Schema('\"int\"', coerce_values_to_int=False)\n",
    "print('2: ', schema2.options.coerce_values_to_int)\n",
    "\n",
    "schema3 = cavro.Schema('\"int\"', options=cavro.DEFAULT_OPTIONS.replace(coerce_values_to_int=True))\n",
    "print('3: ', schema3.options.coerce_values_to_int)"
   ]
  },
  {
   "cell_type": "markdown",
   "metadata": {},
   "source": [
    "The various flags and what they mean are described in [The Api reference](/docs/api#class-options), and [the options user guide](/docs/user-guide/options)"
   ]
  },
  {
   "cell_type": "markdown",
   "metadata": {},
   "source": [
    "## Encoding / Decoding values\n",
    "\n",
    "Encoding and decoding values is done using the `binary_encode`, `binary_decode`, `json_encode`, and `json_decode` methods:"
   ]
  },
  {
   "cell_type": "code",
   "execution_count": 49,
   "metadata": {},
   "outputs": [
    {
     "name": "stdout",
     "output_type": "stream",
     "text": [
      "b'\\x00\\x06'\n",
      "3\n",
      "{\"int\": 3}\n",
      "3\n"
     ]
    }
   ],
   "source": [
    "print(schema.binary_encode(3))\n",
    "print(schema.binary_decode(b'\\x00\\x06'))\n",
    "print(schema.json_encode(3))\n",
    "print(schema.json_decode('{\"int\": 3}'))"
   ]
  },
  {
   "cell_type": "markdown",
   "metadata": {},
   "source": [
    "## Schema dict, Schema String & Canonical form\n",
    "\n",
    "Unlike other libraries, `cavro` does not retain the original source used to construct a schema.  Standard representations of the avro schema definitions can be retrived from the `Schema` using several properties (None of these are guaranteed to be identical to the original source).\n",
    "\n",
    " * `Schema.schema` - A python object that represents the schema definition\n",
    " * `Schema.schema_str` - JSON encoded version of the above\n",
    " * `Schema.canonical_form` - The [Parsing Canonical Form](https://avro.apache.org/docs/1.11.1/specification/#parsing-canonical-form-for-schemas) of the schema"
   ]
  },
  {
   "cell_type": "code",
   "execution_count": 42,
   "metadata": {},
   "outputs": [
    {
     "data": {
      "text/plain": [
       "['int',\n",
       " 'long',\n",
       " {'namespace': 'x',\n",
       "  'name': 'A',\n",
       "  'fields': [{'name': 'a', 'type': 'x.A'}],\n",
       "  'type': 'record'}]"
      ]
     },
     "execution_count": 42,
     "metadata": {},
     "output_type": "execute_result"
    }
   ],
   "source": [
    "schema = cavro.Schema('[\"int\", {\"type\": \"long\"}, {\"fields\": [{\"name\": \"a\", \"type\": \"A\"}], \"type\": \"record\", \"name\": \"A\", \"namespace\": \"x\"}]')\n",
    "\n",
    "schema.schema"
   ]
  },
  {
   "cell_type": "code",
   "execution_count": 41,
   "metadata": {},
   "outputs": [
    {
     "name": "stdout",
     "output_type": "stream",
     "text": [
      "[\n",
      "  \"int\",\n",
      "  \"long\",\n",
      "  {\n",
      "    \"namespace\": \"x\",\n",
      "    \"name\": \"A\",\n",
      "    \"fields\": [\n",
      "      {\n",
      "        \"name\": \"a\",\n",
      "        \"type\": \"x.A\"\n",
      "      }\n",
      "    ],\n",
      "    \"type\": \"record\"\n",
      "  }\n",
      "]\n"
     ]
    }
   ],
   "source": [
    "print(schema.schema_str)"
   ]
  },
  {
   "cell_type": "code",
   "execution_count": 39,
   "metadata": {},
   "outputs": [
    {
     "data": {
      "text/plain": [
       "'[\"int\",\"long\",{\"name\":\"x.A\",\"type\":\"record\",\"fields\":[{\"name\":\"a\",\"type\":\"x.A\"}]}]'"
      ]
     },
     "execution_count": 39,
     "metadata": {},
     "output_type": "execute_result"
    }
   ],
   "source": [
    "schema.canonical_form"
   ]
  }
 ],
 "metadata": {
  "kernelspec": {
   "display_name": "Python 3",
   "language": "python",
   "name": "python3"
  },
  "language_info": {
   "codemirror_mode": {
    "name": "ipython",
    "version": 3
   },
   "file_extension": ".py",
   "mimetype": "text/x-python",
   "name": "python",
   "nbconvert_exporter": "python",
   "pygments_lexer": "ipython3",
   "version": "3.10.3"
  }
 },
 "nbformat": 4,
 "nbformat_minor": 2
}
