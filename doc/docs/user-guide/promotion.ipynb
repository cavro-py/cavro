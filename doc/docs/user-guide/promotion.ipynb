{
 "cells": [
  {
   "cell_type": "code",
   "execution_count": 3,
   "metadata": {
    "tags": [
     "hide"
    ]
   },
   "outputs": [],
   "source": [
    "import cavro"
   ]
  },
  {
   "cell_type": "markdown",
   "metadata": {},
   "source": [
    "# Schema Promotion\n",
    "\n",
    "Also known as Reader/Writer schemas, or Schema Resolution.\n",
    "\n",
    "`cavro` supports reading avro messages using a different schema definition that data was written with, provided the standard schema resolution rules are met.\n",
    "\n",
    "resolution is done by calling `Schema.reader_for_writer` on the reader's schema, which returns a special schema object that can be used for decoding (but not encoding) avro:"
   ]
  },
  {
   "cell_type": "code",
   "execution_count": 15,
   "metadata": {},
   "outputs": [
    {
     "name": "stdout",
     "output_type": "stream",
     "text": [
      "<Record:Record {user_id: 'John' ip: b'\\x7f\\x00\\x00\\x01' created: 1234567890.0 deleted: False...}>\n"
     ]
    }
   ],
   "source": [
    "writer_schema = cavro.Schema({\n",
    "    'type': 'record',\n",
    "    'name': 'Record',\n",
    "    'fields': [\n",
    "        {'name': 'user_id', 'type': 'bytes'},\n",
    "        {'name': 'ip', 'type': {'type': 'fixed', 'size': 4, 'name': 'IP'}},\n",
    "        {'name': 'created', 'type': 'long'},\n",
    "    ]\n",
    "})\n",
    "avro_data = writer_schema.binary_encode({'user_id': b'John', 'ip': b'\\x7f\\x00\\x00\\x01', 'created': 1234567890})\n",
    "\n",
    "reader_schema = cavro.Schema({\n",
    "    'type': 'record',\n",
    "    'name': 'Record',\n",
    "    'fields': [\n",
    "        # Read string instead of bytes\n",
    "        {'name': 'user_id', 'type': 'string'},\n",
    "        # Union rather than single type\n",
    "        {'name': 'ip', 'type': [\n",
    "            # Rename type with aliases\n",
    "            {'type': 'fixed', 'size': 4, 'name': 'IPv4', 'aliases': ['IP']},\n",
    "            {'type': 'fixed', 'size': 16, 'name': 'IPv6'},\n",
    "        ]},\n",
    "        # Convert long to double\n",
    "        {'name': 'created', 'type': 'double'},\n",
    "        # New field with default\n",
    "        {'name': 'deleted', 'type': 'boolean', 'default': False}\n",
    "    ]\n",
    "})\n",
    "\n",
    "reader_for_writer = reader_schema.reader_for_writer(writer_schema)\n",
    "\n",
    "print(reader_for_writer.binary_decode(avro_data))"
   ]
  },
  {
   "cell_type": "markdown",
   "metadata": {},
   "source": [
    "Trying to do the same on the reader schema directly will result in errors or corrupt data:"
   ]
  },
  {
   "cell_type": "code",
   "execution_count": 18,
   "metadata": {},
   "outputs": [
    {
     "name": "stdout",
     "output_type": "stream",
     "text": [
      "Value -64 is not valid for a union of 2 items\n"
     ]
    }
   ],
   "source": [
    "try:\n",
    "    reader_schema.binary_decode(avro_data)\n",
    "except Exception as e:\n",
    "    print(e)"
   ]
  },
  {
   "cell_type": "markdown",
   "metadata": {},
   "source": [
    "## Object Container promotion\n",
    "\n",
    "When reading object containers with [cavro.ContainerReader](/docs/api#class-containerreader), schema resolution is performed automatically based on the writer schema embedded in the container file."
   ]
  },
  {
   "cell_type": "markdown",
   "metadata": {},
   "source": [
    "## Eager promotion\n",
    "\n",
    "Unlike most other libraries, schema resolution is done up-front, before any avro data is read, allowing for efficient decode strategies.\n",
    "\n",
    "This does mean that errors may be raised sooner than otherwise expected.  There is an option `defer_schema_promotion_errors` that will ignore promotion errors until a value is parsed."
   ]
  },
  {
   "cell_type": "code",
   "execution_count": 22,
   "metadata": {},
   "outputs": [
    {
     "name": "stdout",
     "output_type": "stream",
     "text": [
      "Cannot promote int to {'name': 'Record', 'fields': [{'name': 'user_id', 'type': 'bytes'}, {'name': 'ip', 'type': {'name': 'IP', 'size': 4, 'type': 'fixed'}}, {'name': 'created', 'type': 'long'}], 'type': 'record'}\n"
     ]
    }
   ],
   "source": [
    "incompatible_schema = cavro.Schema('\"int\"')\n",
    "\n",
    "try:\n",
    "    incompatible_schema.reader_for_writer(writer_schema)\n",
    "except Exception as e:\n",
    "    print(e)"
   ]
  },
  {
   "cell_type": "code",
   "execution_count": 25,
   "metadata": {},
   "outputs": [
    {
     "name": "stdout",
     "output_type": "stream",
     "text": [
      "We got a reader schema:  <cavro.ResolvedSchema object at 0x164846d90>\n",
      "But when a value is read:\n",
      "Cannot promote int to {'name': 'Record', 'fields': [{'name': 'user_id', 'type': 'bytes'}, {'name': 'ip', 'type': {'name': 'IP', 'size': 4, 'type': 'fixed'}}, {'name': 'created', 'type': 'long'}], 'type': 'record'}\n"
     ]
    }
   ],
   "source": [
    "incompatible_schema = cavro.Schema('\"int\"', defer_schema_promotion_errors=True)\n",
    "incompatible_reader = incompatible_schema.reader_for_writer(writer_schema)\n",
    "\n",
    "print('We got a reader schema: ', incompatible_reader)\n",
    "print('But when a value is read:')\n",
    "try:\n",
    "    incompatible_reader.binary_decode(avro_data)\n",
    "except Exception as e:\n",
    "    print(e)"
   ]
  }
 ],
 "metadata": {
  "kernelspec": {
   "display_name": "Python 3",
   "language": "python",
   "name": "python3"
  },
  "language_info": {
   "codemirror_mode": {
    "name": "ipython",
    "version": 3
   },
   "file_extension": ".py",
   "mimetype": "text/x-python",
   "name": "python",
   "nbconvert_exporter": "python",
   "pygments_lexer": "ipython3",
   "version": "3.10.3"
  }
 },
 "nbformat": 4,
 "nbformat_minor": 2
}
