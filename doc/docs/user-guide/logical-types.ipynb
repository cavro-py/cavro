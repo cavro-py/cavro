{
 "cells": [
  {
   "cell_type": "code",
   "execution_count": 2,
   "metadata": {
    "tags": [
     "hide"
    ]
   },
   "outputs": [],
   "source": [
    "import cavro"
   ]
  },
  {
   "cell_type": "markdown",
   "metadata": {},
   "source": [
    "# Logical Types\n",
    "\n",
    "`cavro` supports a number of standard avro logical types by default:"
   ]
  },
  {
   "cell_type": "code",
   "execution_count": 17,
   "metadata": {},
   "outputs": [
    {
     "name": "stdout",
     "output_type": "stream",
     "text": [
      " * decimal (bytes, fixed)\n",
      " * uuid (string)\n",
      " * uuid (fixed)\n",
      " * date (int)\n",
      " * time-millis (int)\n",
      " * time-micros (long)\n",
      " * timestamp-millis (long)\n",
      " * timestamp-micros (long)\n"
     ]
    }
   ],
   "source": [
    "for logical_type in cavro.DEFAULT_OPTIONS.logical_types:\n",
    "    name = logical_type.logical_name\n",
    "    underlying_types = logical_type.underlying_types\n",
    "    underlying_names = [ut.type_name for ut in underlying_types]\n",
    "    print(f' * {name} ({\", \".join(underlying_names)})')"
   ]
  },
  {
   "cell_type": "markdown",
   "metadata": {},
   "source": [
    "Internally, these are implemented as value adapters on the schema type.  Value adapters are primarily used for logical types, but also play a part in schema promotion, and effectively are hooks that can change values before being encoded, or after being decoded.\n",
    "\n",
    "Normally you shouldn't need to worry about value adapters, but understanding this may make the examples below clearer.  A normal schema with no logical types has no value adapters:"
   ]
  },
  {
   "cell_type": "code",
   "execution_count": 30,
   "metadata": {},
   "outputs": [
    {
     "data": {
      "text/plain": [
       "()"
      ]
     },
     "execution_count": 30,
     "metadata": {},
     "output_type": "execute_result"
    }
   ],
   "source": [
    "cavro.Schema({'type': 'int'}).type.value_adapters"
   ]
  },
  {
   "cell_type": "markdown",
   "metadata": {},
   "source": [
    "If a valid logical type spec is found, then this is included as a value adapter:"
   ]
  },
  {
   "cell_type": "code",
   "execution_count": 31,
   "metadata": {},
   "outputs": [
    {
     "data": {
      "text/plain": [
       "(<cavro.TimeMillis at 0x1124175d0>,)"
      ]
     },
     "execution_count": 31,
     "metadata": {},
     "output_type": "execute_result"
    }
   ],
   "source": [
    "cavro.Schema({'type': 'int', 'logicalType': 'time-millis'}).type.value_adapters"
   ]
  },
  {
   "cell_type": "markdown",
   "metadata": {},
   "source": [
    "## Disabling all logical types\n",
    "\n",
    "To disable logical types, set the logical_types option to be an empty list:"
   ]
  },
  {
   "cell_type": "code",
   "execution_count": 32,
   "metadata": {},
   "outputs": [
    {
     "data": {
      "text/plain": [
       "()"
      ]
     },
     "execution_count": 32,
     "metadata": {},
     "output_type": "execute_result"
    }
   ],
   "source": [
    "cavro.Schema({'type': 'int', 'logicalType': 'time-millis'}, logical_types=()).type.value_adapters"
   ]
  },
  {
   "cell_type": "code",
   "execution_count": 33,
   "metadata": {},
   "outputs": [
    {
     "data": {
      "text/plain": [
       "()"
      ]
     },
     "execution_count": 33,
     "metadata": {},
     "output_type": "execute_result"
    }
   ],
   "source": [
    "my_options = cavro.DEFAULT_OPTIONS.replace(logical_types=())\n",
    "cavro.Schema({'type': 'int', 'logicalType': 'time-millis'}, options=my_options).type.value_adapters"
   ]
  },
  {
   "cell_type": "markdown",
   "metadata": {},
   "source": [
    "# Selectively enabling logical types"
   ]
  },
  {
   "cell_type": "code",
   "execution_count": 34,
   "metadata": {},
   "outputs": [
    {
     "data": {
      "text/plain": [
       "(<cavro.TimeMillis at 0x112416910>,)"
      ]
     },
     "execution_count": 34,
     "metadata": {},
     "output_type": "execute_result"
    }
   ],
   "source": [
    "cavro.Schema({'type': 'int', 'logicalType': 'time-millis'}, logical_types=(cavro.TimeMillis, )).type.value_adapters"
   ]
  },
  {
   "cell_type": "markdown",
   "metadata": {},
   "source": [
    "## Custom Logical Types\n",
    "\n",
    "Custom logical types are implemented as subclasses of [cavro.CustomLogicalType](/docs/api#class-CustomLogicalType).\n",
    "\n",
    "They can be added to the list of types in options by using [Options.with_logical_types](/docs/api#method-with_logical_typesself-logical_types)\n",
    "\n",
    "Subclasses should be defined like this:"
   ]
  },
  {
   "cell_type": "code",
   "execution_count": 53,
   "metadata": {},
   "outputs": [],
   "source": [
    "class Times10Type(cavro.CustomLogicalType):\n",
    "    logical_name = 'times-10'                            # The name that is used in the avro schema\n",
    "    underlying_types = (cavro.IntType, cavro.LongType)   # A tuple of classes of the avro types that this type can be attached to\n",
    "\n",
    "    @classmethod\n",
    "    def _for_type(cls, underlying):\n",
    "        return cls()\n",
    "    \n",
    "    def custom_encode_value(self, value):                 # This is called to prepare a value for avro encoding\n",
    "        return value * 10\n",
    "    \n",
    "    def custom_decode_value(self, value):               # This is called after a value has been decoded\n",
    "        return value // 10"
   ]
  },
  {
   "cell_type": "markdown",
   "metadata": {},
   "source": [
    "Add the class to the options, and encode/decode a value:"
   ]
  },
  {
   "cell_type": "code",
   "execution_count": 54,
   "metadata": {},
   "outputs": [
    {
     "name": "stdout",
     "output_type": "stream",
     "text": [
      "b'\\x881'\n",
      "314\n"
     ]
    }
   ],
   "source": [
    "my_options = cavro.DEFAULT_OPTIONS.with_logical_types(Times10Type)\n",
    "schema = cavro.Schema({'type': 'int', 'logicalType': 'times-10'}, options=my_options)\n",
    "\n",
    "encoded = schema.binary_encode(314)\n",
    "print(encoded)\n",
    "print(schema.binary_decode(encoded))"
   ]
  },
  {
   "cell_type": "markdown",
   "metadata": {},
   "source": [
    "Decoding the encoded value using a normal schema, it's clear that the stored value is 10x larger:"
   ]
  },
  {
   "cell_type": "code",
   "execution_count": 72,
   "metadata": {},
   "outputs": [
    {
     "data": {
      "text/plain": [
       "3140"
      ]
     },
     "execution_count": 72,
     "metadata": {},
     "output_type": "execute_result"
    }
   ],
   "source": [
    "plain_schema = cavro.Schema({'type': 'int'})\n",
    "plain_schema.binary_decode(encoded)"
   ]
  },
  {
   "cell_type": "markdown",
   "metadata": {},
   "source": [
    "### Schema Parameters for Custom Types\n",
    "\n",
    "The `_for_type` classmethod allows for a logical type to be customized based on values in the schema.\n",
    "\n",
    "Let's create a new version of the logical type where the stored value can be multiplied by any value (not just 10):"
   ]
  },
  {
   "cell_type": "code",
   "execution_count": 66,
   "metadata": {},
   "outputs": [],
   "source": [
    "class TimesNType(cavro.CustomLogicalType):\n",
    "    logical_name = 'times-n'  \n",
    "    underlying_types = (cavro.IntType, cavro.LongType)\n",
    "\n",
    "    def __init__(self, n):\n",
    "        self.n = n   # Store the 'N' value (the number to multiply by)\n",
    "\n",
    "    @classmethod\n",
    "    def _for_type(cls, underlying: cavro.AvroType):\n",
    "        # underlying.metadata is a dictionary of values in the schema that aren't part of the type definition\n",
    "        n_value = underlying.metadata.get('n', 10)\n",
    "        # The avro spec says that invalid logical types must be ignored, so return None here to signal that:\n",
    "        if not isinstance(n_value, int):\n",
    "            return None\n",
    "        return cls(n_value)\n",
    "    \n",
    "    def custom_encode_value(self, value):                 # This is called to prepare a value for avro encoding\n",
    "        return value * self.n\n",
    "    \n",
    "    def custom_decode_value(self, value):               # This is called after a value has been decoded\n",
    "        return value // self.n\n",
    "    \n",
    "my_options = cavro.DEFAULT_OPTIONS.with_logical_types(TimesNType)"
   ]
  },
  {
   "cell_type": "markdown",
   "metadata": {},
   "source": [
    "Now, we can specify how much to multiple values by:"
   ]
  },
  {
   "cell_type": "code",
   "execution_count": 68,
   "metadata": {},
   "outputs": [],
   "source": [
    "n1_schema = cavro.Schema({'type': 'int', 'logicalType': 'times-n', 'n': 1}, options=my_options)\n",
    "n2_schema = cavro.Schema({'type': 'int', 'logicalType': 'times-n', 'n': 2}, options=my_options)\n",
    "n10_schema = cavro.Schema({'type': 'int', 'logicalType': 'times-n', 'n': 10}, options=my_options)"
   ]
  },
  {
   "cell_type": "markdown",
   "metadata": {},
   "source": [
    "If we encode the same number with each of these schemas, and then decode them with our plain schema above, it's clear that the encoded values are different:"
   ]
  },
  {
   "cell_type": "code",
   "execution_count": 71,
   "metadata": {},
   "outputs": [
    {
     "name": "stdout",
     "output_type": "stream",
     "text": [
      "10\n",
      "20\n",
      "100\n"
     ]
    }
   ],
   "source": [
    "print(plain_schema.binary_decode(n1_schema.binary_encode(10)))\n",
    "print(plain_schema.binary_decode(n2_schema.binary_encode(10)))\n",
    "print(plain_schema.binary_decode(n10_schema.binary_encode(10)))"
   ]
  }
 ],
 "metadata": {
  "kernelspec": {
   "display_name": "Python 3",
   "language": "python",
   "name": "python3"
  },
  "language_info": {
   "codemirror_mode": {
    "name": "ipython",
    "version": 3
   },
   "file_extension": ".py",
   "mimetype": "text/x-python",
   "name": "python",
   "nbconvert_exporter": "python",
   "pygments_lexer": "ipython3",
   "version": "3.10.3"
  }
 },
 "nbformat": 4,
 "nbformat_minor": 2
}
